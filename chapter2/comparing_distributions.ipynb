{
 "cells": [
  {
   "cell_type": "markdown",
   "metadata": {},
   "source": [
    "# Further hypothesis testing"
   ]
  },
  {
   "cell_type": "markdown",
   "metadata": {},
   "source": [
    "## Chapter 2. Parameter estimation. The $\\chi^{2}$ test, ANOVA and Fisher test."
   ]
  },
  {
   "cell_type": "code",
   "execution_count": 2,
   "metadata": {},
   "outputs": [],
   "source": [
    "# Import libraries\n",
    "import numpy as np\n",
    "import pandas as pd\n",
    "from scipy import stats\n",
    "import matplotlib.pyplot as plt"
   ]
  },
  {
   "cell_type": "markdown",
   "metadata": {},
   "source": [
    "### 2.1 Comparing distributions. The $\\chi^{2}$ test.\n",
    "\n",
    "In this chapter we introduce the idea of comparing distributions, and evaluating how close / different they are among each other. For that purpose we will define the $\\chi^{2}$ test and the $\\chi^{2}$ distribution. Such knowledge will also prove itself useful when performing ANOVA (analysis of variance) and many group comparisons, as we will do in the next example.\n",
    "\n",
    "As an example, we will look at the distributions of spectral class (i.e. colour) for various types of star. Recent research suggests that the bar charts for white dwarves (type 2) and main sequence stars (type 3) seem similar, but you are not so sure and hence you want to model and compara both distributions."
   ]
  },
  {
   "cell_type": "markdown",
   "metadata": {},
   "source": [
    "#### Explore data\n",
    "\n",
    "Question: do types 2 and 3 share the same distribution of spectral class?"
   ]
  },
  {
   "cell_type": "code",
   "execution_count": 4,
   "metadata": {},
   "outputs": [],
   "source": [
    "# Load data\n",
    "data = pd.read_csv(\"stars.csv\")\n",
    "type_key = ['Brown Dwarf', 'Red Dwarf', 'White Dwarf', 'Main Sequence', 'Supergiant','Hypergiant']"
   ]
  },
  {
   "cell_type": "code",
   "execution_count": 5,
   "metadata": {},
   "outputs": [
    {
     "data": {
      "image/png": "[encoded data removed]",
      "text/plain": [
       "<Figure size 432x288 with 1 Axes>"
      ]
     },
     "metadata": {
      "needs_background": "light"
     },
     "output_type": "display_data"
    }
   ],
   "source": [
    "# Assign labels\n",
    "labels = ['O','B','A','F','G','K','M']\n",
    "\n",
    "grouped = data.groupby(data.type)\n",
    "\n",
    "classes2 = grouped.get_group(2).spectral_class.value_counts()\n",
    "classes3 = grouped.get_group(3).spectral_class.value_counts()\n",
    "\n",
    "for i in labels:\n",
    "    if (i not in classes2):\n",
    "        classes2[i] = 0 \n",
    "    if (i not in classes3):\n",
    "        classes3[i] = 0 \n",
    "\n",
    "x = np.arange(len(labels))  # the label locations\n",
    "width = 0.35  # the width of the bars\n",
    "\n",
    "fig, ax = plt.subplots()\n",
    "rects1 = ax.bar(x - width/2, [classes2[i] for i in labels], width, alpha=0.4, color = 'C2', label=type_key[2])\n",
    "rects2 = ax.bar(x + width/2, [classes3[i] for i in labels], width, alpha=0.8, color = 'C3', label=type_key[3])\n",
    "ax.set_xticks(x)\n",
    "ax.set_xticklabels(labels)\n",
    "ax.legend(loc='upper right')\n",
    "\n",
    "plt.show()\n"
   ]
  },
  {
   "cell_type": "markdown",
   "metadata": {},
   "source": [
    "#### i) Chi-squared test for statistical independence\n",
    "\n",
    "$H_0$: Probability distribution for the categorical variable (e.g. spectral class) is independent of group (e.g. star type).\n",
    "\n",
    "$H_1$: Probability distribution depends on group.\n",
    "\n",
    "We need to find out whether the differences in observed frequencies between the two groups are small enough to have arisen by chance. We do this by constructing a [*contingency table*](https://en.wikipedia.org/wiki/Contingency_table) showing the observed frequency of each outcome for each of the two groups, and comparing to the *expected frequencies* under $H_0$.\n",
    "\n",
    "\n",
    "The test statistic is\n",
    "\n",
    "$$X^2 = \\sum^k_{i=1}{\\frac{(x_i-m_i)^2}{m_i}}$$,\n",
    "\n",
    "where $k$ is the number of cells in the table and $x_i$ and $m_i$ are the observed and expected frequencies for each cell.\n",
    "\n",
    "Under $H_0$, $X^2$ follows a [$\\chi^2$ distribution](https://en.wikipedia.org/wiki/Chi-squared_distribution), which is parametrised by the number of degrees of freedom. A contingency table of size $a \\times b$ has $(a-1)(b-1)$ degrees of freedom, i.e. the number of independent counts when row and column sums are held fixed.\n",
    "\n",
    "#### Assumptions\n",
    "\n",
    "- Sampling is random\n",
    "- Each sample is independent of the others\n",
    "- Expected frequency for each cell must be sufficiently large\n",
    "\n",
    "The approximation to the $\\chi^2$ distribution breaks down if expected frequencies are too low. It will normally be acceptable so long as no more than 20% of the events have expected frequencies below 5. Where there is only 1 degree of freedom (i.e. a 2 $\\times$ 2 table), the approximation is not reliable if expected frequencies fall below 10. \n",
    "\n",
    "\n",
    "#### Application"
   ]
  },
  {
   "cell_type": "markdown",
   "metadata": {},
   "source": [
    "We will set $\\alpha=0.05$.\n",
    "\n",
    "We begin by making a contingency table for the observed spectral classes."
   ]
  },
  {
   "cell_type": "code",
   "execution_count": 6,
   "metadata": {},
   "outputs": [
    {
     "name": "stdout",
     "output_type": "stream",
     "text": [
      "OBSERVED:\n"
     ]
    },
    {
     "data": {
      "text/html": [
       "<div>\n",
       "<style scoped>\n",
       "    .dataframe tbody tr th:only-of-type {\n",
       "        vertical-align: middle;\n",
       "    }\n",
       "\n",
       "    .dataframe tbody tr th {\n",
       "        vertical-align: top;\n",
       "    }\n",
       "\n",
       "    .dataframe thead th {\n",
       "        text-align: right;\n",
       "    }\n",
       "</style>\n",
       "<table border=\"1\" class=\"dataframe\">\n",
       "  <thead>\n",
       "    <tr style=\"text-align: right;\">\n",
       "      <th>spectral_class</th>\n",
       "      <th>A</th>\n",
       "      <th>B</th>\n",
       "      <th>F</th>\n",
       "      <th>K</th>\n",
       "      <th>O</th>\n",
       "      <th>total</th>\n",
       "    </tr>\n",
       "    <tr>\n",
       "      <th>type</th>\n",
       "      <th></th>\n",
       "      <th></th>\n",
       "      <th></th>\n",
       "      <th></th>\n",
       "      <th></th>\n",
       "      <th></th>\n",
       "    </tr>\n",
       "  </thead>\n",
       "  <tbody>\n",
       "    <tr>\n",
       "      <th>2</th>\n",
       "      <td>7</td>\n",
       "      <td>24</td>\n",
       "      <td>9</td>\n",
       "      <td>0</td>\n",
       "      <td>0</td>\n",
       "      <td>40</td>\n",
       "    </tr>\n",
       "    <tr>\n",
       "      <th>3</th>\n",
       "      <td>10</td>\n",
       "      <td>13</td>\n",
       "      <td>8</td>\n",
       "      <td>4</td>\n",
       "      <td>5</td>\n",
       "      <td>40</td>\n",
       "    </tr>\n",
       "    <tr>\n",
       "      <th>total</th>\n",
       "      <td>17</td>\n",
       "      <td>37</td>\n",
       "      <td>17</td>\n",
       "      <td>4</td>\n",
       "      <td>5</td>\n",
       "      <td>80</td>\n",
       "    </tr>\n",
       "  </tbody>\n",
       "</table>\n",
       "</div>"
      ],
      "text/plain": [
       "spectral_class   A   B   F  K  O  total\n",
       "type                                   \n",
       "2                7  24   9  0  0     40\n",
       "3               10  13   8  4  5     40\n",
       "total           17  37  17  4  5     80"
      ]
     },
     "execution_count": 6,
     "metadata": {},
     "output_type": "execute_result"
    }
   ],
   "source": [
    "# OBSERVED\n",
    "\n",
    "types = [2,3]\n",
    "subset = pd.concat([grouped.get_group(t) for t in types])\n",
    "\n",
    "obs = pd.crosstab(subset.type,subset.spectral_class,margins=True,margins_name=\"total\")\n",
    "print(\"OBSERVED:\")\n",
    "obs"
   ]
  },
  {
   "cell_type": "code",
   "execution_count": 8,
   "metadata": {},
   "outputs": [
    {
     "data": {
      "text/plain": [
       "(12.858505564387915,\n",
       " 0.23169090100267423,\n",
       " 10,\n",
       " array([[ 8.5, 18.5,  8.5,  2. ,  2.5, 40. ],\n",
       "        [ 8.5, 18.5,  8.5,  2. ,  2.5, 40. ],\n",
       "        [17. , 37. , 17. ,  4. ,  5. , 80. ]]))"
      ]
     },
     "execution_count": 8,
     "metadata": {},
     "output_type": "execute_result"
    }
   ],
   "source": [
    "stats.chi2_contingency(obs)"
   ]
  },
  {
   "cell_type": "markdown",
   "metadata": {},
   "source": [
    "From the row and column totals, we can calculate the *expected* frequencies under $H_0$:"
   ]
  },
  {
   "cell_type": "code",
   "execution_count": 10,
   "metadata": {},
   "outputs": [
    {
     "name": "stdout",
     "output_type": "stream",
     "text": [
      "EXPECTED:\n"
     ]
    },
    {
     "data": {
      "text/html": [
       "<div>\n",
       "<style scoped>\n",
       "    .dataframe tbody tr th:only-of-type {\n",
       "        vertical-align: middle;\n",
       "    }\n",
       "\n",
       "    .dataframe tbody tr th {\n",
       "        vertical-align: top;\n",
       "    }\n",
       "\n",
       "    .dataframe thead th {\n",
       "        text-align: right;\n",
       "    }\n",
       "</style>\n",
       "<table border=\"1\" class=\"dataframe\">\n",
       "  <thead>\n",
       "    <tr style=\"text-align: right;\">\n",
       "      <th>spectral_class</th>\n",
       "      <th>A</th>\n",
       "      <th>B</th>\n",
       "      <th>F</th>\n",
       "      <th>K</th>\n",
       "      <th>O</th>\n",
       "      <th>total</th>\n",
       "    </tr>\n",
       "    <tr>\n",
       "      <th>type</th>\n",
       "      <th></th>\n",
       "      <th></th>\n",
       "      <th></th>\n",
       "      <th></th>\n",
       "      <th></th>\n",
       "      <th></th>\n",
       "    </tr>\n",
       "  </thead>\n",
       "  <tbody>\n",
       "    <tr>\n",
       "      <th>2</th>\n",
       "      <td>8.5</td>\n",
       "      <td>18.5</td>\n",
       "      <td>8.5</td>\n",
       "      <td>2.0</td>\n",
       "      <td>2.5</td>\n",
       "      <td>40.0</td>\n",
       "    </tr>\n",
       "    <tr>\n",
       "      <th>3</th>\n",
       "      <td>8.5</td>\n",
       "      <td>18.5</td>\n",
       "      <td>8.5</td>\n",
       "      <td>2.0</td>\n",
       "      <td>2.5</td>\n",
       "      <td>40.0</td>\n",
       "    </tr>\n",
       "    <tr>\n",
       "      <th>total</th>\n",
       "      <td>17.0</td>\n",
       "      <td>37.0</td>\n",
       "      <td>17.0</td>\n",
       "      <td>4.0</td>\n",
       "      <td>5.0</td>\n",
       "      <td>80.0</td>\n",
       "    </tr>\n",
       "  </tbody>\n",
       "</table>\n",
       "</div>"
      ],
      "text/plain": [
       "spectral_class     A     B     F    K    O  total\n",
       "type                                             \n",
       "2                8.5  18.5   8.5  2.0  2.5   40.0\n",
       "3                8.5  18.5   8.5  2.0  2.5   40.0\n",
       "total           17.0  37.0  17.0  4.0  5.0   80.0"
      ]
     },
     "execution_count": 10,
     "metadata": {},
     "output_type": "execute_result"
    }
   ],
   "source": [
    "# EXPECTED\n",
    "\n",
    "exp = pd.DataFrame(stats.contingency.expected_freq(obs))\n",
    "exp.columns = obs.columns\n",
    "exp = exp.rename(index={0:2,1:3,2:\"total\"})\n",
    "exp = exp.rename_axis(columns=obs.axes[1].name,index=obs.axes[0].name)\n",
    "print(\"EXPECTED:\")\n",
    "exp"
   ]
  },
  {
   "cell_type": "markdown",
   "metadata": {},
   "source": [
    "The expected values for classes K and O are too small. We can combine the last three columns to get all of the expected values over 5:"
   ]
  },
  {
   "cell_type": "code",
   "execution_count": 11,
   "metadata": {},
   "outputs": [
    {
     "name": "stdout",
     "output_type": "stream",
     "text": [
      "OBSERVED:\n"
     ]
    },
    {
     "data": {
      "text/html": [
       "<div>\n",
       "<style scoped>\n",
       "    .dataframe tbody tr th:only-of-type {\n",
       "        vertical-align: middle;\n",
       "    }\n",
       "\n",
       "    .dataframe tbody tr th {\n",
       "        vertical-align: top;\n",
       "    }\n",
       "\n",
       "    .dataframe thead th {\n",
       "        text-align: right;\n",
       "    }\n",
       "</style>\n",
       "<table border=\"1\" class=\"dataframe\">\n",
       "  <thead>\n",
       "    <tr style=\"text-align: right;\">\n",
       "      <th>spectral_class</th>\n",
       "      <th>A</th>\n",
       "      <th>B</th>\n",
       "      <th>others</th>\n",
       "    </tr>\n",
       "    <tr>\n",
       "      <th>type</th>\n",
       "      <th></th>\n",
       "      <th></th>\n",
       "      <th></th>\n",
       "    </tr>\n",
       "  </thead>\n",
       "  <tbody>\n",
       "    <tr>\n",
       "      <th>2</th>\n",
       "      <td>7</td>\n",
       "      <td>24</td>\n",
       "      <td>9</td>\n",
       "    </tr>\n",
       "    <tr>\n",
       "      <th>3</th>\n",
       "      <td>10</td>\n",
       "      <td>13</td>\n",
       "      <td>17</td>\n",
       "    </tr>\n",
       "  </tbody>\n",
       "</table>\n",
       "</div>"
      ],
      "text/plain": [
       "spectral_class   A   B  others\n",
       "type                          \n",
       "2                7  24       9\n",
       "3               10  13      17"
      ]
     },
     "execution_count": 11,
     "metadata": {},
     "output_type": "execute_result"
    }
   ],
   "source": [
    "# OBSERVED (combining columns)\n",
    "\n",
    "new_obs = obs[['A','B']][:-1]\n",
    "new_obs['others'] = obs[['F','K','O']][:-1].sum(axis=1)\n",
    "print(\"OBSERVED:\")\n",
    "new_obs"
   ]
  },
  {
   "cell_type": "code",
   "execution_count": 8,
   "metadata": {},
   "outputs": [
    {
     "name": "stdout",
     "output_type": "stream",
     "text": [
      "EXPECTED:\n"
     ]
    },
    {
     "data": {
      "text/html": [
       "<div>\n",
       "<style scoped>\n",
       "    .dataframe tbody tr th:only-of-type {\n",
       "        vertical-align: middle;\n",
       "    }\n",
       "\n",
       "    .dataframe tbody tr th {\n",
       "        vertical-align: top;\n",
       "    }\n",
       "\n",
       "    .dataframe thead th {\n",
       "        text-align: right;\n",
       "    }\n",
       "</style>\n",
       "<table border=\"1\" class=\"dataframe\">\n",
       "  <thead>\n",
       "    <tr style=\"text-align: right;\">\n",
       "      <th>spectral_class</th>\n",
       "      <th>A</th>\n",
       "      <th>B</th>\n",
       "      <th>others</th>\n",
       "    </tr>\n",
       "    <tr>\n",
       "      <th>type</th>\n",
       "      <th></th>\n",
       "      <th></th>\n",
       "      <th></th>\n",
       "    </tr>\n",
       "  </thead>\n",
       "  <tbody>\n",
       "    <tr>\n",
       "      <th>2</th>\n",
       "      <td>8.5</td>\n",
       "      <td>18.5</td>\n",
       "      <td>13.0</td>\n",
       "    </tr>\n",
       "    <tr>\n",
       "      <th>3</th>\n",
       "      <td>8.5</td>\n",
       "      <td>18.5</td>\n",
       "      <td>13.0</td>\n",
       "    </tr>\n",
       "  </tbody>\n",
       "</table>\n",
       "</div>"
      ],
      "text/plain": [
       "spectral_class    A     B  others\n",
       "type                             \n",
       "2               8.5  18.5    13.0\n",
       "3               8.5  18.5    13.0"
      ]
     },
     "execution_count": 8,
     "metadata": {},
     "output_type": "execute_result"
    }
   ],
   "source": [
    "# EXPECTED (combining columns)\n",
    "\n",
    "new_exp = pd.DataFrame(stats.contingency.expected_freq(new_obs))\n",
    "new_exp.columns = new_obs.columns\n",
    "new_exp = new_exp.rename(index={0:2,1:3})\n",
    "new_exp = new_exp.rename_axis(columns=new_obs.axes[1].name,index=new_obs.axes[0].name)\n",
    "print(\"EXPECTED:\")\n",
    "new_exp"
   ]
  },
  {
   "cell_type": "markdown",
   "metadata": {},
   "source": [
    "In `scipy.stats`, he most convenient form of the chi-squared test for a contingency table is `chi2_contingency`, which just takes the table of observations as input and calculates the expected values and degrees of freedom accordingly."
   ]
  },
  {
   "cell_type": "code",
   "execution_count": 9,
   "metadata": {},
   "outputs": [
    {
     "data": {
      "text/plain": [
       "0.043691126681826536"
      ]
     },
     "execution_count": 9,
     "metadata": {},
     "output_type": "execute_result"
    }
   ],
   "source": [
    "p_value = stats.chi2_contingency(new_obs)[1]\n",
    "p_value"
   ]
  },
  {
   "cell_type": "markdown",
   "metadata": {},
   "source": [
    "According to the chi-squared test, $p<\\alpha$, so there is enough evidence to reject $H_0$:\n",
    "it appears that white dwarves and main sequence stars follow different distributions for spectral class.\n",
    "\n",
    "<br>"
   ]
  }
 ],
 "metadata": {
  "kernelspec": {
   "display_name": "Python 3 (ipykernel)",
   "language": "python",
   "name": "python3"
  },
  "language_info": {
   "codemirror_mode": {
    "name": "ipython",
    "version": 3
   },
   "file_extension": ".py",
   "mimetype": "text/x-python",
   "name": "python",
   "nbconvert_exporter": "python",
   "pygments_lexer": "ipython3",
   "version": "3.9.12"
  }
 },
 "nbformat": 4,
 "nbformat_minor": 4
}
